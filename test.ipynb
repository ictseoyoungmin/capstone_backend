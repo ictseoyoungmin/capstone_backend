{
 "cells": [
  {
   "cell_type": "code",
   "execution_count": null,
   "metadata": {},
   "outputs": [],
   "source": [
    "# app의 모델 변경 사항을 체크한다\n",
    "! python manage.py makemigrations\n",
    "# 변경 사항을 DB에 반영한다\n",
    "! python manage.py migrate\n",
    "# superuser 생성\n",
    "! python manage.py createsuperuser\n",
    "\n",
    "\"\"\"# 아래와 같이 username, email, password 입력 한다\n",
    "# email의 경우 필수 입력 사항은 아니다. Enter키로 패스 가능\n",
    "Username (leave blank to use 'user'): admin\n",
    "Email address: \n",
    "Password: \n",
    "Password (again):\n",
    "This password is too common.\n",
    "Bypass password validation and create user anyway? [y/N]: y\n",
    "Superuser created successfully.\n",
    "\"\"\"\n",
    "\n",
    "# 웹 서버 실행하여 확인\n",
    "! python manage.py runserver\n",
    "\n",
    "\n",
    "# npm error\n",
    "! npm config get proxy\n",
    "! npm config rm proxy\n",
    "! npm config rm https-proxy\n",
    "\n",
    "# API Sever <-> react Server HTTP 접근제어 규약 추가\n",
    "! pip install django-cors-headers\n",
    "\n",
    "# cd root (django-react)\n",
    "# yarn 설치\n",
    "! npm install -g yarn\n",
    "\n",
    "# npm을 이용해서 react app 설치\n",
    "! npm install -g create-react-app\n",
    "\n",
    "# yarn을 이용해서 react app 설치\n",
    "! yarn global add create-react-app\n",
    "\n",
    "-----------------------------------------------------------------------\n",
    "\n",
    "! create-react-app frontend # cra로 frontend이라는 리액트 앱 만들기\n",
    "! cd frontend\n",
    "! yarn start\n"
   ]
  }
 ],
 "metadata": {
  "kernelspec": {
   "display_name": "Python 3.8.8 ('ml')",
   "language": "python",
   "name": "python3"
  },
  "language_info": {
   "name": "python",
   "version": "3.8.8"
  },
  "orig_nbformat": 4,
  "vscode": {
   "interpreter": {
    "hash": "377c41597dc18a33d2c25e76b15a262740c6fc4b924e90c98f1b4c5aaf6471fa"
   }
  }
 },
 "nbformat": 4,
 "nbformat_minor": 2
}
